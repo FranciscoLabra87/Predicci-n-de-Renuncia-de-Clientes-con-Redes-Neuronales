{
 "cells": [
  {
   "cell_type": "code",
   "execution_count": 1,
   "id": "b1a1c3ba-2ae9-4362-bfcf-9a96473a90dc",
   "metadata": {},
   "outputs": [],
   "source": [
    "import os\n",
    "import numpy as np\n",
    "import pandas as pd\n",
    "import matplotlib.pyplot as plt\n",
    "import seaborn as sns\n",
    "\n",
    "# Scikit-learn - Preprocesamiento y Modelos\n",
    "from sklearn.preprocessing import StandardScaler\n",
    "from sklearn.model_selection import train_test_split, GridSearchCV\n",
    "from sklearn.ensemble import RandomForestClassifier\n",
    "from sklearn.metrics import (\n",
    "    accuracy_score, precision_score, recall_score, f1_score, \n",
    "    classification_report, confusion_matrix, roc_curve, auc\n",
    ")\n",
    "\n",
    "# Imbalanced-learn - Manejo de datos desbalanceados\n",
    "from imblearn.over_sampling import SMOTE\n",
    "\n",
    "# TensorFlow / Keras - Deep Learning\n",
    "import tensorflow as tf\n",
    "from tensorflow.keras.models import Sequential\n",
    "from tensorflow.keras.layers import Dense, Dropout, BatchNormalization\n",
    "from tensorflow.keras.optimizers import Adam, SGD\n",
    "from scikeras.wrappers import KerasClassifier"
   ]
  },
  {
   "cell_type": "code",
   "execution_count": 2,
   "id": "157347e7-587c-4fdf-bbb0-17e51d413a79",
   "metadata": {},
   "outputs": [
    {
     "data": {
      "text/plain": [
       "['.ipynb_checkpoints',\n",
       " '02_d_Desafío_-_Redes_neuronales__Parte_I_.pdf',\n",
       " 'Customer Churn.csv',\n",
       " 'Guía de estudio - Redes neuronales (Parte I).pdf',\n",
       " 'Untitled.ipynb']"
      ]
     },
     "execution_count": 2,
     "metadata": {},
     "output_type": "execute_result"
    }
   ],
   "source": [
    "archivo=os.listdir()\n",
    "archivo"
   ]
  },
  {
   "cell_type": "code",
   "execution_count": 3,
   "id": "fb945e03-699a-47ab-85c8-1a8b1565f97e",
   "metadata": {},
   "outputs": [
    {
     "data": {
      "text/html": [
       "<div>\n",
       "<style scoped>\n",
       "    .dataframe tbody tr th:only-of-type {\n",
       "        vertical-align: middle;\n",
       "    }\n",
       "\n",
       "    .dataframe tbody tr th {\n",
       "        vertical-align: top;\n",
       "    }\n",
       "\n",
       "    .dataframe thead th {\n",
       "        text-align: right;\n",
       "    }\n",
       "</style>\n",
       "<table border=\"1\" class=\"dataframe\">\n",
       "  <thead>\n",
       "    <tr style=\"text-align: right;\">\n",
       "      <th></th>\n",
       "      <th>Call  Failure</th>\n",
       "      <th>Complains</th>\n",
       "      <th>Subscription  Length</th>\n",
       "      <th>Charge  Amount</th>\n",
       "      <th>Seconds of Use</th>\n",
       "      <th>Frequency of use</th>\n",
       "      <th>Frequency of SMS</th>\n",
       "      <th>Distinct Called Numbers</th>\n",
       "      <th>Age Group</th>\n",
       "      <th>Tariff Plan</th>\n",
       "      <th>Status</th>\n",
       "      <th>Age</th>\n",
       "      <th>Customer Value</th>\n",
       "      <th>Churn</th>\n",
       "    </tr>\n",
       "  </thead>\n",
       "  <tbody>\n",
       "    <tr>\n",
       "      <th>0</th>\n",
       "      <td>8</td>\n",
       "      <td>0</td>\n",
       "      <td>38</td>\n",
       "      <td>0</td>\n",
       "      <td>4370</td>\n",
       "      <td>71</td>\n",
       "      <td>5</td>\n",
       "      <td>17</td>\n",
       "      <td>3</td>\n",
       "      <td>1</td>\n",
       "      <td>1</td>\n",
       "      <td>30</td>\n",
       "      <td>197.640</td>\n",
       "      <td>0</td>\n",
       "    </tr>\n",
       "    <tr>\n",
       "      <th>1</th>\n",
       "      <td>0</td>\n",
       "      <td>0</td>\n",
       "      <td>39</td>\n",
       "      <td>0</td>\n",
       "      <td>318</td>\n",
       "      <td>5</td>\n",
       "      <td>7</td>\n",
       "      <td>4</td>\n",
       "      <td>2</td>\n",
       "      <td>1</td>\n",
       "      <td>2</td>\n",
       "      <td>25</td>\n",
       "      <td>46.035</td>\n",
       "      <td>0</td>\n",
       "    </tr>\n",
       "    <tr>\n",
       "      <th>2</th>\n",
       "      <td>10</td>\n",
       "      <td>0</td>\n",
       "      <td>37</td>\n",
       "      <td>0</td>\n",
       "      <td>2453</td>\n",
       "      <td>60</td>\n",
       "      <td>359</td>\n",
       "      <td>24</td>\n",
       "      <td>3</td>\n",
       "      <td>1</td>\n",
       "      <td>1</td>\n",
       "      <td>30</td>\n",
       "      <td>1536.520</td>\n",
       "      <td>0</td>\n",
       "    </tr>\n",
       "    <tr>\n",
       "      <th>3</th>\n",
       "      <td>10</td>\n",
       "      <td>0</td>\n",
       "      <td>38</td>\n",
       "      <td>0</td>\n",
       "      <td>4198</td>\n",
       "      <td>66</td>\n",
       "      <td>1</td>\n",
       "      <td>35</td>\n",
       "      <td>1</td>\n",
       "      <td>1</td>\n",
       "      <td>1</td>\n",
       "      <td>15</td>\n",
       "      <td>240.020</td>\n",
       "      <td>0</td>\n",
       "    </tr>\n",
       "    <tr>\n",
       "      <th>4</th>\n",
       "      <td>3</td>\n",
       "      <td>0</td>\n",
       "      <td>38</td>\n",
       "      <td>0</td>\n",
       "      <td>2393</td>\n",
       "      <td>58</td>\n",
       "      <td>2</td>\n",
       "      <td>33</td>\n",
       "      <td>1</td>\n",
       "      <td>1</td>\n",
       "      <td>1</td>\n",
       "      <td>15</td>\n",
       "      <td>145.805</td>\n",
       "      <td>0</td>\n",
       "    </tr>\n",
       "    <tr>\n",
       "      <th>...</th>\n",
       "      <td>...</td>\n",
       "      <td>...</td>\n",
       "      <td>...</td>\n",
       "      <td>...</td>\n",
       "      <td>...</td>\n",
       "      <td>...</td>\n",
       "      <td>...</td>\n",
       "      <td>...</td>\n",
       "      <td>...</td>\n",
       "      <td>...</td>\n",
       "      <td>...</td>\n",
       "      <td>...</td>\n",
       "      <td>...</td>\n",
       "      <td>...</td>\n",
       "    </tr>\n",
       "    <tr>\n",
       "      <th>3145</th>\n",
       "      <td>21</td>\n",
       "      <td>0</td>\n",
       "      <td>19</td>\n",
       "      <td>2</td>\n",
       "      <td>6697</td>\n",
       "      <td>147</td>\n",
       "      <td>92</td>\n",
       "      <td>44</td>\n",
       "      <td>2</td>\n",
       "      <td>2</td>\n",
       "      <td>1</td>\n",
       "      <td>25</td>\n",
       "      <td>721.980</td>\n",
       "      <td>0</td>\n",
       "    </tr>\n",
       "    <tr>\n",
       "      <th>3146</th>\n",
       "      <td>17</td>\n",
       "      <td>0</td>\n",
       "      <td>17</td>\n",
       "      <td>1</td>\n",
       "      <td>9237</td>\n",
       "      <td>177</td>\n",
       "      <td>80</td>\n",
       "      <td>42</td>\n",
       "      <td>5</td>\n",
       "      <td>1</td>\n",
       "      <td>1</td>\n",
       "      <td>55</td>\n",
       "      <td>261.210</td>\n",
       "      <td>0</td>\n",
       "    </tr>\n",
       "    <tr>\n",
       "      <th>3147</th>\n",
       "      <td>13</td>\n",
       "      <td>0</td>\n",
       "      <td>18</td>\n",
       "      <td>4</td>\n",
       "      <td>3157</td>\n",
       "      <td>51</td>\n",
       "      <td>38</td>\n",
       "      <td>21</td>\n",
       "      <td>3</td>\n",
       "      <td>1</td>\n",
       "      <td>1</td>\n",
       "      <td>30</td>\n",
       "      <td>280.320</td>\n",
       "      <td>0</td>\n",
       "    </tr>\n",
       "    <tr>\n",
       "      <th>3148</th>\n",
       "      <td>7</td>\n",
       "      <td>0</td>\n",
       "      <td>11</td>\n",
       "      <td>2</td>\n",
       "      <td>4695</td>\n",
       "      <td>46</td>\n",
       "      <td>222</td>\n",
       "      <td>12</td>\n",
       "      <td>3</td>\n",
       "      <td>1</td>\n",
       "      <td>1</td>\n",
       "      <td>30</td>\n",
       "      <td>1077.640</td>\n",
       "      <td>0</td>\n",
       "    </tr>\n",
       "    <tr>\n",
       "      <th>3149</th>\n",
       "      <td>8</td>\n",
       "      <td>1</td>\n",
       "      <td>11</td>\n",
       "      <td>2</td>\n",
       "      <td>1792</td>\n",
       "      <td>25</td>\n",
       "      <td>7</td>\n",
       "      <td>9</td>\n",
       "      <td>3</td>\n",
       "      <td>1</td>\n",
       "      <td>1</td>\n",
       "      <td>30</td>\n",
       "      <td>100.680</td>\n",
       "      <td>1</td>\n",
       "    </tr>\n",
       "  </tbody>\n",
       "</table>\n",
       "<p>3150 rows × 14 columns</p>\n",
       "</div>"
      ],
      "text/plain": [
       "      Call  Failure  Complains  Subscription  Length  Charge  Amount  \\\n",
       "0                 8          0                    38               0   \n",
       "1                 0          0                    39               0   \n",
       "2                10          0                    37               0   \n",
       "3                10          0                    38               0   \n",
       "4                 3          0                    38               0   \n",
       "...             ...        ...                   ...             ...   \n",
       "3145             21          0                    19               2   \n",
       "3146             17          0                    17               1   \n",
       "3147             13          0                    18               4   \n",
       "3148              7          0                    11               2   \n",
       "3149              8          1                    11               2   \n",
       "\n",
       "      Seconds of Use  Frequency of use  Frequency of SMS  \\\n",
       "0               4370                71                 5   \n",
       "1                318                 5                 7   \n",
       "2               2453                60               359   \n",
       "3               4198                66                 1   \n",
       "4               2393                58                 2   \n",
       "...              ...               ...               ...   \n",
       "3145            6697               147                92   \n",
       "3146            9237               177                80   \n",
       "3147            3157                51                38   \n",
       "3148            4695                46               222   \n",
       "3149            1792                25                 7   \n",
       "\n",
       "      Distinct Called Numbers  Age Group  Tariff Plan  Status  Age  \\\n",
       "0                          17          3            1       1   30   \n",
       "1                           4          2            1       2   25   \n",
       "2                          24          3            1       1   30   \n",
       "3                          35          1            1       1   15   \n",
       "4                          33          1            1       1   15   \n",
       "...                       ...        ...          ...     ...  ...   \n",
       "3145                       44          2            2       1   25   \n",
       "3146                       42          5            1       1   55   \n",
       "3147                       21          3            1       1   30   \n",
       "3148                       12          3            1       1   30   \n",
       "3149                        9          3            1       1   30   \n",
       "\n",
       "      Customer Value  Churn  \n",
       "0            197.640      0  \n",
       "1             46.035      0  \n",
       "2           1536.520      0  \n",
       "3            240.020      0  \n",
       "4            145.805      0  \n",
       "...              ...    ...  \n",
       "3145         721.980      0  \n",
       "3146         261.210      0  \n",
       "3147         280.320      0  \n",
       "3148        1077.640      0  \n",
       "3149         100.680      1  \n",
       "\n",
       "[3150 rows x 14 columns]"
      ]
     },
     "execution_count": 3,
     "metadata": {},
     "output_type": "execute_result"
    }
   ],
   "source": [
    "df=pd.read_csv(archivo[2])\n",
    "df"
   ]
  },
  {
   "cell_type": "code",
   "execution_count": 4,
   "id": "bf82fc1b-29a3-4c16-97ac-af1a140cf2cf",
   "metadata": {},
   "outputs": [],
   "source": [
    "# Analisis Elemental"
   ]
  },
  {
   "cell_type": "code",
   "execution_count": 5,
   "id": "ea15cef5-a851-40de-bd4b-92c2e301fc34",
   "metadata": {},
   "outputs": [
    {
     "data": {
      "text/plain": [
       "Call  Failure              0\n",
       "Complains                  0\n",
       "Subscription  Length       0\n",
       "Charge  Amount             0\n",
       "Seconds of Use             0\n",
       "Frequency of use           0\n",
       "Frequency of SMS           0\n",
       "Distinct Called Numbers    0\n",
       "Age Group                  0\n",
       "Tariff Plan                0\n",
       "Status                     0\n",
       "Age                        0\n",
       "Customer Value             0\n",
       "Churn                      0\n",
       "dtype: int64"
      ]
     },
     "execution_count": 5,
     "metadata": {},
     "output_type": "execute_result"
    }
   ],
   "source": [
    "# Análisis de valores faltantes\n",
    "missing_values = df.isnull().sum()\n",
    "missing_values "
   ]
  },
  {
   "cell_type": "code",
   "execution_count": 6,
   "id": "218de316-6ad8-4957-9c18-9739f1e0ecb7",
   "metadata": {},
   "outputs": [
    {
     "data": {
      "text/html": [
       "<div>\n",
       "<style scoped>\n",
       "    .dataframe tbody tr th:only-of-type {\n",
       "        vertical-align: middle;\n",
       "    }\n",
       "\n",
       "    .dataframe tbody tr th {\n",
       "        vertical-align: top;\n",
       "    }\n",
       "\n",
       "    .dataframe thead th {\n",
       "        text-align: right;\n",
       "    }\n",
       "</style>\n",
       "<table border=\"1\" class=\"dataframe\">\n",
       "  <thead>\n",
       "    <tr style=\"text-align: right;\">\n",
       "      <th></th>\n",
       "      <th>Call  Failure</th>\n",
       "      <th>Complains</th>\n",
       "      <th>Subscription  Length</th>\n",
       "      <th>Charge  Amount</th>\n",
       "      <th>Seconds of Use</th>\n",
       "      <th>Frequency of use</th>\n",
       "      <th>Frequency of SMS</th>\n",
       "      <th>Distinct Called Numbers</th>\n",
       "      <th>Age Group</th>\n",
       "      <th>Tariff Plan</th>\n",
       "      <th>Status</th>\n",
       "      <th>Age</th>\n",
       "      <th>Customer Value</th>\n",
       "      <th>Churn</th>\n",
       "    </tr>\n",
       "  </thead>\n",
       "  <tbody>\n",
       "    <tr>\n",
       "      <th>count</th>\n",
       "      <td>3150.000000</td>\n",
       "      <td>3150.000000</td>\n",
       "      <td>3150.000000</td>\n",
       "      <td>3150.000000</td>\n",
       "      <td>3150.000000</td>\n",
       "      <td>3150.000000</td>\n",
       "      <td>3150.000000</td>\n",
       "      <td>3150.000000</td>\n",
       "      <td>3150.000000</td>\n",
       "      <td>3150.000000</td>\n",
       "      <td>3150.000000</td>\n",
       "      <td>3150.000000</td>\n",
       "      <td>3150.000000</td>\n",
       "      <td>3150.000000</td>\n",
       "    </tr>\n",
       "    <tr>\n",
       "      <th>mean</th>\n",
       "      <td>7.627937</td>\n",
       "      <td>0.076508</td>\n",
       "      <td>32.541905</td>\n",
       "      <td>0.942857</td>\n",
       "      <td>4472.459683</td>\n",
       "      <td>69.460635</td>\n",
       "      <td>73.174921</td>\n",
       "      <td>23.509841</td>\n",
       "      <td>2.826032</td>\n",
       "      <td>1.077778</td>\n",
       "      <td>1.248254</td>\n",
       "      <td>30.998413</td>\n",
       "      <td>470.972916</td>\n",
       "      <td>0.157143</td>\n",
       "    </tr>\n",
       "    <tr>\n",
       "      <th>std</th>\n",
       "      <td>7.263886</td>\n",
       "      <td>0.265851</td>\n",
       "      <td>8.573482</td>\n",
       "      <td>1.521072</td>\n",
       "      <td>4197.908687</td>\n",
       "      <td>57.413308</td>\n",
       "      <td>112.237560</td>\n",
       "      <td>17.217337</td>\n",
       "      <td>0.892555</td>\n",
       "      <td>0.267864</td>\n",
       "      <td>0.432069</td>\n",
       "      <td>8.831095</td>\n",
       "      <td>517.015433</td>\n",
       "      <td>0.363993</td>\n",
       "    </tr>\n",
       "    <tr>\n",
       "      <th>min</th>\n",
       "      <td>0.000000</td>\n",
       "      <td>0.000000</td>\n",
       "      <td>3.000000</td>\n",
       "      <td>0.000000</td>\n",
       "      <td>0.000000</td>\n",
       "      <td>0.000000</td>\n",
       "      <td>0.000000</td>\n",
       "      <td>0.000000</td>\n",
       "      <td>1.000000</td>\n",
       "      <td>1.000000</td>\n",
       "      <td>1.000000</td>\n",
       "      <td>15.000000</td>\n",
       "      <td>0.000000</td>\n",
       "      <td>0.000000</td>\n",
       "    </tr>\n",
       "    <tr>\n",
       "      <th>25%</th>\n",
       "      <td>1.000000</td>\n",
       "      <td>0.000000</td>\n",
       "      <td>30.000000</td>\n",
       "      <td>0.000000</td>\n",
       "      <td>1391.250000</td>\n",
       "      <td>27.000000</td>\n",
       "      <td>6.000000</td>\n",
       "      <td>10.000000</td>\n",
       "      <td>2.000000</td>\n",
       "      <td>1.000000</td>\n",
       "      <td>1.000000</td>\n",
       "      <td>25.000000</td>\n",
       "      <td>113.801250</td>\n",
       "      <td>0.000000</td>\n",
       "    </tr>\n",
       "    <tr>\n",
       "      <th>50%</th>\n",
       "      <td>6.000000</td>\n",
       "      <td>0.000000</td>\n",
       "      <td>35.000000</td>\n",
       "      <td>0.000000</td>\n",
       "      <td>2990.000000</td>\n",
       "      <td>54.000000</td>\n",
       "      <td>21.000000</td>\n",
       "      <td>21.000000</td>\n",
       "      <td>3.000000</td>\n",
       "      <td>1.000000</td>\n",
       "      <td>1.000000</td>\n",
       "      <td>30.000000</td>\n",
       "      <td>228.480000</td>\n",
       "      <td>0.000000</td>\n",
       "    </tr>\n",
       "    <tr>\n",
       "      <th>75%</th>\n",
       "      <td>12.000000</td>\n",
       "      <td>0.000000</td>\n",
       "      <td>38.000000</td>\n",
       "      <td>1.000000</td>\n",
       "      <td>6478.250000</td>\n",
       "      <td>95.000000</td>\n",
       "      <td>87.000000</td>\n",
       "      <td>34.000000</td>\n",
       "      <td>3.000000</td>\n",
       "      <td>1.000000</td>\n",
       "      <td>1.000000</td>\n",
       "      <td>30.000000</td>\n",
       "      <td>788.388750</td>\n",
       "      <td>0.000000</td>\n",
       "    </tr>\n",
       "    <tr>\n",
       "      <th>max</th>\n",
       "      <td>36.000000</td>\n",
       "      <td>1.000000</td>\n",
       "      <td>47.000000</td>\n",
       "      <td>10.000000</td>\n",
       "      <td>17090.000000</td>\n",
       "      <td>255.000000</td>\n",
       "      <td>522.000000</td>\n",
       "      <td>97.000000</td>\n",
       "      <td>5.000000</td>\n",
       "      <td>2.000000</td>\n",
       "      <td>2.000000</td>\n",
       "      <td>55.000000</td>\n",
       "      <td>2165.280000</td>\n",
       "      <td>1.000000</td>\n",
       "    </tr>\n",
       "  </tbody>\n",
       "</table>\n",
       "</div>"
      ],
      "text/plain": [
       "       Call  Failure    Complains  Subscription  Length  Charge  Amount  \\\n",
       "count    3150.000000  3150.000000           3150.000000     3150.000000   \n",
       "mean        7.627937     0.076508             32.541905        0.942857   \n",
       "std         7.263886     0.265851              8.573482        1.521072   \n",
       "min         0.000000     0.000000              3.000000        0.000000   \n",
       "25%         1.000000     0.000000             30.000000        0.000000   \n",
       "50%         6.000000     0.000000             35.000000        0.000000   \n",
       "75%        12.000000     0.000000             38.000000        1.000000   \n",
       "max        36.000000     1.000000             47.000000       10.000000   \n",
       "\n",
       "       Seconds of Use  Frequency of use  Frequency of SMS  \\\n",
       "count     3150.000000       3150.000000       3150.000000   \n",
       "mean      4472.459683         69.460635         73.174921   \n",
       "std       4197.908687         57.413308        112.237560   \n",
       "min          0.000000          0.000000          0.000000   \n",
       "25%       1391.250000         27.000000          6.000000   \n",
       "50%       2990.000000         54.000000         21.000000   \n",
       "75%       6478.250000         95.000000         87.000000   \n",
       "max      17090.000000        255.000000        522.000000   \n",
       "\n",
       "       Distinct Called Numbers    Age Group  Tariff Plan       Status  \\\n",
       "count              3150.000000  3150.000000  3150.000000  3150.000000   \n",
       "mean                 23.509841     2.826032     1.077778     1.248254   \n",
       "std                  17.217337     0.892555     0.267864     0.432069   \n",
       "min                   0.000000     1.000000     1.000000     1.000000   \n",
       "25%                  10.000000     2.000000     1.000000     1.000000   \n",
       "50%                  21.000000     3.000000     1.000000     1.000000   \n",
       "75%                  34.000000     3.000000     1.000000     1.000000   \n",
       "max                  97.000000     5.000000     2.000000     2.000000   \n",
       "\n",
       "               Age  Customer Value        Churn  \n",
       "count  3150.000000     3150.000000  3150.000000  \n",
       "mean     30.998413      470.972916     0.157143  \n",
       "std       8.831095      517.015433     0.363993  \n",
       "min      15.000000        0.000000     0.000000  \n",
       "25%      25.000000      113.801250     0.000000  \n",
       "50%      30.000000      228.480000     0.000000  \n",
       "75%      30.000000      788.388750     0.000000  \n",
       "max      55.000000     2165.280000     1.000000  "
      ]
     },
     "execution_count": 6,
     "metadata": {},
     "output_type": "execute_result"
    }
   ],
   "source": [
    "# Análisis estadístico de las variables numéricas\n",
    "stats_summary = df.describe()\n",
    "stats_summary"
   ]
  },
  {
   "cell_type": "code",
   "execution_count": 7,
   "id": "a3049ca3-6ba0-4429-9fd0-01e3b456ccff",
   "metadata": {},
   "outputs": [
    {
     "name": "stdout",
     "output_type": "stream",
     "text": [
      "\n",
      " Análisis de Valores Nulos:\n",
      "\n",
      "Empty DataFrame\n",
      "Columns: [Valores Nulos, Porcentaje (%)]\n",
      "Index: []\n"
     ]
    }
   ],
   "source": [
    "# Contar valores nulos por columna\n",
    "missing_values = df.isnull().sum()\n",
    "\n",
    "# Calcular el porcentaje de valores nulos\n",
    "missing_percentage = (missing_values / len(df)) * 100\n",
    "\n",
    "# Crear un DataFrame con los resultados\n",
    "missing_df = pd.DataFrame({\n",
    "    \"Valores Nulos\": missing_values,\n",
    "    \"Porcentaje (%)\": missing_percentage\n",
    "})\n",
    "\n",
    "# Mostrar solo las columnas que tienen valores nulos\n",
    "missing_df = missing_df[missing_df[\"Valores Nulos\"] > 0]\n",
    "\n",
    "# Mostrar los resultados\n",
    "print(\"\\n Análisis de Valores Nulos:\\n\")\n",
    "print(missing_df)"
   ]
  },
  {
   "cell_type": "code",
   "execution_count": 8,
   "id": "4d03063c-4ab6-4d4d-b95e-be0065332d0b",
   "metadata": {},
   "outputs": [
    {
     "name": "stdout",
     "output_type": "stream",
     "text": [
      "\n",
      " Tipos de Datos en el Dataset:\n",
      "\n",
      "Call  Failure                int64\n",
      "Complains                    int64\n",
      "Subscription  Length         int64\n",
      "Charge  Amount               int64\n",
      "Seconds of Use               int64\n",
      "Frequency of use             int64\n",
      "Frequency of SMS             int64\n",
      "Distinct Called Numbers      int64\n",
      "Age Group                    int64\n",
      "Tariff Plan                  int64\n",
      "Status                       int64\n",
      "Age                          int64\n",
      "Customer Value             float64\n",
      "Churn                        int64\n",
      "dtype: object\n"
     ]
    }
   ],
   "source": [
    "# Mostrar tipos de datos\n",
    "print(\"\\n Tipos de Datos en el Dataset:\\n\")\n",
    "print(df.dtypes)\n"
   ]
  },
  {
   "cell_type": "code",
   "execution_count": 9,
   "id": "1b89549b-8d1b-49cd-85fa-6df8a9521aef",
   "metadata": {},
   "outputs": [
    {
     "name": "stdout",
     "output_type": "stream",
     "text": [
      " Nuevos nombres de columnas:\n",
      "['Call__Failure', 'Complains', 'Subscription__Length', 'Charge__Amount', 'Seconds_of_Use', 'Frequency_of_use', 'Frequency_of_SMS', 'Distinct_Called_Numbers', 'Age_Group', 'Tariff_Plan', 'Status', 'Age', 'Customer_Value', 'Churn']\n"
     ]
    }
   ],
   "source": [
    "#  Reemplazar espacios en los nombres de columnas por guiones bajos (_)\n",
    "df.columns = df.columns.str.replace(\" \", \"_\")\n",
    "\n",
    "#  Mostrar los nombres corregidos\n",
    "print(\" Nuevos nombres de columnas:\")\n",
    "print(df.columns.tolist())\n"
   ]
  },
  {
   "cell_type": "code",
   "execution_count": 10,
   "id": "c07d3f7d-da31-466b-9ada-00963232be9e",
   "metadata": {},
   "outputs": [
    {
     "data": {
      "image/png": "[encoded data removed]",
      "text/plain": [
       "<Figure size 1000x500 with 1 Axes>"
      ]
     },
     "metadata": {},
     "output_type": "display_data"
    }
   ],
   "source": [
    "#  Visualizar la distribución con un histograma\n",
    "plt.figure(figsize=(10, 5))\n",
    "sns.histplot(data=df, x=\"Subscription__Length\", hue=\"Churn\", kde=True, bins=30, palette=\"coolwarm\")\n",
    "plt.title(\"Distribución de 'Subscription__Length' segun 'Churn'\")\n",
    "plt.xlabel(\"Meses de Suscripcion\")\n",
    "plt.ylabel(\"Frecuencia\")\n",
    "plt.legend([\"No Churn (0)\", \"Churn (1)\"])\n",
    "plt.show()\n",
    "\n",
    "#  Estadísticas descriptivas por clase de \"Churn\"\n",
    "subscription_stats = df.groupby(\"Churn\")[\"Subscription__Length\"].describe()"
   ]
  },
  {
   "cell_type": "markdown",
   "id": "f6c95cf4-c4a4-4114-8608-8c3f2f82f07c",
   "metadata": {},
   "source": [
    "# Definir X y y antes de aplicar SMOTE"
   ]
  },
  {
   "cell_type": "code",
   "execution_count": 12,
   "id": "72d54f6e-c7d4-41ad-b87b-28e7131bba86",
   "metadata": {},
   "outputs": [],
   "source": [
    "# Se corto la luz y debi seguir a oscuras jijij"
   ]
  },
  {
   "cell_type": "code",
   "execution_count": 13,
   "id": "29684395-b99d-427e-95e7-2e98b1df3142",
   "metadata": {},
   "outputs": [],
   "source": [
    "X_original = df.drop(columns=[\"Churn\"])\n",
    "y_original = df[\"Churn\"]"
   ]
  },
  {
   "cell_type": "code",
   "execution_count": 14,
   "id": "e625ef59-0aa9-40d3-b798-72f933b604c6",
   "metadata": {},
   "outputs": [],
   "source": [
    "smote = SMOTE(sampling_strategy=\"auto\", random_state=42)\n",
    "X_smote, y_smote = smote.fit_resample(X_original, y_original) # MUY IMPORTANTE ! CONSERVADO EL X,Y ORIGINAL "
   ]
  },
  {
   "cell_type": "markdown",
   "id": "c6b0c411-a142-4389-a60f-9da4986d82a3",
   "metadata": {},
   "source": [
    "# Escalar los datos "
   ]
  },
  {
   "cell_type": "code",
   "execution_count": 16,
   "id": "869307c8-e432-41da-ad2f-db87178c709e",
   "metadata": {},
   "outputs": [],
   "source": [
    "scaler = StandardScaler()\n",
    "X_smote_scaled = scaler.fit_transform(X_smote)"
   ]
  },
  {
   "cell_type": "markdown",
   "id": "c5c88f90-bb50-47d6-b66b-c4833a000ea5",
   "metadata": {},
   "source": [
    "# División en entrenamiento y prueba"
   ]
  },
  {
   "cell_type": "code",
   "execution_count": 18,
   "id": "82c73c09-054f-49d2-b086-5b65fd310a4d",
   "metadata": {},
   "outputs": [
    {
     "name": "stdout",
     "output_type": "stream",
     "text": [
      "Tamaño de entrenamiento: (4248, 13), Tamaño de prueba: (1062, 13)\n"
     ]
    }
   ],
   "source": [
    "# Elegir la versión que queremos probar (por ejemplo, la escalada)\n",
    "X_train, X_test, y_train, y_test = train_test_split(X_smote_scaled, y_smote, test_size=0.2, random_state=42, stratify=y_smote)\n",
    "\n",
    "print(f\"Tamaño de entrenamiento: {X_train.shape}, Tamaño de prueba: {X_test.shape}\")\n"
   ]
  },
  {
   "cell_type": "markdown",
   "id": "9b3d7e7e-6b1b-4130-a451-6323dbf665c0",
   "metadata": {},
   "source": [
    "# modelo RandomForestClassifier"
   ]
  },
  {
   "cell_type": "code",
   "execution_count": 20,
   "id": "f83804e1-a1aa-48ac-a7be-5eafdc076182",
   "metadata": {},
   "outputs": [
    {
     "name": "stdout",
     "output_type": "stream",
     "text": [
      "F1-Scores: {'Clase 0 (No Churn)': 0.9705042816365367, 'Clase 1 (Churn)': 0.9711090400745573}\n"
     ]
    }
   ],
   "source": [
    "# Inicializar y entrenar el modelo con hiperparámetros por defecto\n",
    "rf_model = RandomForestClassifier(random_state=42)\n",
    "rf_model.fit(X_train, y_train)\n",
    "\n",
    "# Hacer predicciones\n",
    "y_pred = rf_model.predict(X_test)\n",
    "\n",
    "# Evaluar con F1-Score\n",
    "report = classification_report(y_test, y_pred, output_dict=True)\n",
    "\n",
    "# Mostrar F1-Score para ambas clases\n",
    "f1_scores = {\n",
    "    \"Clase 0 (No Churn)\": report[\"0\"][\"f1-score\"],\n",
    "    \"Clase 1 (Churn)\": report[\"1\"][\"f1-score\"]\n",
    "}\n",
    "\n",
    "print(\"F1-Scores:\", f1_scores)"
   ]
  },
  {
   "cell_type": "code",
   "execution_count": 21,
   "id": "faa4b019-02ea-41f8-a241-4695c3bd7178",
   "metadata": {},
   "outputs": [
    {
     "data": {
      "image/png": "[encoded data removed]",
      "text/plain": [
       "<Figure size 1000x500 with 1 Axes>"
      ]
     },
     "metadata": {},
     "output_type": "display_data"
    }
   ],
   "source": [
    "# Obtener importancia de características\n",
    "importances = rf_model.feature_importances_\n",
    "feature_names = X_original.columns  # Asegurarse de que sean los nombres correctos\n",
    "\n",
    "# Crear DataFrame de importancia de características\n",
    "feature_importance_df = pd.DataFrame({'Feature': feature_names, 'Importance': importances})\n",
    "feature_importance_df = feature_importance_df.sort_values(by='Importance', ascending=False)\n",
    "\n",
    "# Capturar las 7 más importantes\n",
    "top_features = feature_importance_df.head(7) # aqui estan las 7 \n",
    "\n",
    "# Graficar\n",
    "plt.figure(figsize=(10,5))\n",
    "plt.barh(top_features[\"Feature\"], top_features[\"Importance\"], color=\"royalblue\")\n",
    "plt.xlabel(\"Importancia\")\n",
    "plt.ylabel(\"Características\")\n",
    "plt.title(\"Top 7 Características más Importantes\")\n",
    "plt.gca().invert_yaxis()  # Invertir el eje para mejor visualización\n",
    "plt.show()"
   ]
  },
  {
   "cell_type": "code",
   "execution_count": 22,
   "id": "819ba65d-48f0-4395-b5b0-9a682fa73595",
   "metadata": {},
   "outputs": [
    {
     "data": {
      "image/png": "[encoded data removed]",
      "text/plain": [
       "<Figure size 600x400 with 2 Axes>"
      ]
     },
     "metadata": {},
     "output_type": "display_data"
    }
   ],
   "source": [
    "# Calcular matriz de confusión\n",
    "cm = confusion_matrix(y_test, y_pred)\n",
    "\n",
    "# Crear un heatmap con seaborn\n",
    "plt.figure(figsize=(6,4))\n",
    "sns.heatmap(cm, annot=True, fmt=\"d\", cmap=\"Blues\", xticklabels=[\"No Churn (0)\", \"Churn (1)\"], yticklabels=[\"No Churn (0)\", \"Churn (1)\"])\n",
    "plt.xlabel(\"Predicción\")\n",
    "plt.ylabel(\"Valor Real\")\n",
    "plt.title(\"Matriz de Confusión - RandomForest\")\n",
    "plt.show()"
   ]
  },
  {
   "cell_type": "code",
   "execution_count": 23,
   "id": "d7a13070-c0c1-47be-a1f2-2acf35da742b",
   "metadata": {},
   "outputs": [
    {
     "name": "stdout",
     "output_type": "stream",
     "text": [
      " **Métricas del modelo RandomForest:**\n",
      " **Accuracy:** 0.9708\n",
      " **Precision:** 0.9613\n",
      " **Recall:** 0.9812\n",
      " **F1-Score:** 0.9711\n",
      "\n",
      "📋 **Reporte de clasificación:**\n",
      "\n",
      "              precision    recall  f1-score   support\n",
      "\n",
      "           0       0.98      0.96      0.97       531\n",
      "           1       0.96      0.98      0.97       531\n",
      "\n",
      "    accuracy                           0.97      1062\n",
      "   macro avg       0.97      0.97      0.97      1062\n",
      "weighted avg       0.97      0.97      0.97      1062\n",
      "\n"
     ]
    }
   ],
   "source": [
    "\n",
    "# Inicializar y entrenar el modelo con hiperparámetros por defecto\n",
    "rf_model = RandomForestClassifier(random_state=42)\n",
    "rf_model.fit(X_train, y_train)\n",
    "\n",
    "# Hacer predicciones\n",
    "y_pred = rf_model.predict(X_test)\n",
    "\n",
    "# Calcular métricas\n",
    "accuracy = accuracy_score(y_test, y_pred)\n",
    "precision = precision_score(y_test, y_pred)\n",
    "recall = recall_score(y_test, y_pred)\n",
    "f1 = f1_score(y_test, y_pred)\n",
    "\n",
    "# Imprimir resultados\n",
    "print(f\" **Métricas del modelo RandomForest:**\")\n",
    "print(f\" **Accuracy:** {accuracy:.4f}\")\n",
    "print(f\" **Precision:** {precision:.4f}\")\n",
    "print(f\" **Recall:** {recall:.4f}\")\n",
    "print(f\" **F1-Score:** {f1:.4f}\")\n",
    "\n",
    "# Reporte detallado para ambas clases\n",
    "print(\"\\n📋 **Reporte de clasificación:**\\n\")\n",
    "print(classification_report(y_test, y_pred))\n"
   ]
  },
  {
   "cell_type": "markdown",
   "id": "afc8b8fe-fe93-481c-a70d-4e72a42f086f",
   "metadata": {},
   "source": [
    "# Construccion de la red neuronal paso a paso"
   ]
  },
  {
   "cell_type": "markdown",
   "id": "9f0d4e46-73f9-4112-b109-02ee9dfe7bd4",
   "metadata": {},
   "source": [
    "# Paso 1: Filtrar los datos para usar solo las 7 características"
   ]
  },
  {
   "cell_type": "code",
   "execution_count": 26,
   "id": "623a0546-d47a-45e8-b231-dc0b1890030c",
   "metadata": {},
   "outputs": [
    {
     "name": "stdout",
     "output_type": "stream",
     "text": [
      " X_train seleccionado: (4248, 7)\n",
      " X_test seleccionado: (1062, 7)\n"
     ]
    }
   ],
   "source": [
    "# Seleccionar las 7 características más importantes\n",
    "selected_features = top_features[\"Feature\"].values\n",
    "X_train_selected = X_train[:, [list(X_original.columns).index(f) for f in selected_features]]\n",
    "X_test_selected = X_test[:, [list(X_original.columns).index(f) for f in selected_features]]\n",
    "\n",
    "# Verificar dimensiones\n",
    "print(f\" X_train seleccionado: {X_train_selected.shape}\")\n",
    "print(f\" X_test seleccionado: {X_test_selected.shape}\")"
   ]
  },
  {
   "cell_type": "markdown",
   "id": "e78e8f8f-06d6-49c8-ac76-7a46735fd413",
   "metadata": {},
   "source": [
    "# Paso 2: Construir la Red Neuronal Feedforward"
   ]
  },
  {
   "cell_type": "code",
   "execution_count": 28,
   "id": "6dc3f657-729e-4d3b-b8a4-eb08b37891a5",
   "metadata": {},
   "outputs": [
    {
     "name": "stderr",
     "output_type": "stream",
     "text": [
      "C:\\Users\\franc\\anaconda3\\Lib\\site-packages\\keras\\src\\layers\\core\\dense.py:87: UserWarning: Do not pass an `input_shape`/`input_dim` argument to a layer. When using Sequential models, prefer using an `Input(shape)` object as the first layer in the model instead.\n",
      "  super().__init__(activity_regularizer=activity_regularizer, **kwargs)\n"
     ]
    },
    {
     "data": {
      "text/html": [
       "<pre style=\"white-space:pre;overflow-x:auto;line-height:normal;font-family:Menlo,'DejaVu Sans Mono',consolas,'Courier New',monospace\"><span style=\"font-weight: bold\">Model: \"sequential\"</span>\n",
       "</pre>\n"
      ],
      "text/plain": [
       "\u001b[1mModel: \"sequential\"\u001b[0m\n"
      ]
     },
     "metadata": {},
     "output_type": "display_data"
    },
    {
     "data": {
      "text/html": [
       "<pre style=\"white-space:pre;overflow-x:auto;line-height:normal;font-family:Menlo,'DejaVu Sans Mono',consolas,'Courier New',monospace\">┏━━━━━━━━━━━━━━━━━━━━━━━━━━━━━━━━━┳━━━━━━━━━━━━━━━━━━━━━━━━┳━━━━━━━━━━━━━━━┓\n",
       "┃<span style=\"font-weight: bold\"> Layer (type)                    </span>┃<span style=\"font-weight: bold\"> Output Shape           </span>┃<span style=\"font-weight: bold\">       Param # </span>┃\n",
       "┡━━━━━━━━━━━━━━━━━━━━━━━━━━━━━━━━━╇━━━━━━━━━━━━━━━━━━━━━━━━╇━━━━━━━━━━━━━━━┩\n",
       "│ dense (<span style=\"color: #0087ff; text-decoration-color: #0087ff\">Dense</span>)                   │ (<span style=\"color: #00d7ff; text-decoration-color: #00d7ff\">None</span>, <span style=\"color: #00af00; text-decoration-color: #00af00\">16</span>)             │           <span style=\"color: #00af00; text-decoration-color: #00af00\">128</span> │\n",
       "├─────────────────────────────────┼────────────────────────┼───────────────┤\n",
       "│ dense_1 (<span style=\"color: #0087ff; text-decoration-color: #0087ff\">Dense</span>)                 │ (<span style=\"color: #00d7ff; text-decoration-color: #00d7ff\">None</span>, <span style=\"color: #00af00; text-decoration-color: #00af00\">1</span>)              │            <span style=\"color: #00af00; text-decoration-color: #00af00\">17</span> │\n",
       "└─────────────────────────────────┴────────────────────────┴───────────────┘\n",
       "</pre>\n"
      ],
      "text/plain": [
       "┏━━━━━━━━━━━━━━━━━━━━━━━━━━━━━━━━━┳━━━━━━━━━━━━━━━━━━━━━━━━┳━━━━━━━━━━━━━━━┓\n",
       "┃\u001b[1m \u001b[0m\u001b[1mLayer (type)                   \u001b[0m\u001b[1m \u001b[0m┃\u001b[1m \u001b[0m\u001b[1mOutput Shape          \u001b[0m\u001b[1m \u001b[0m┃\u001b[1m \u001b[0m\u001b[1m      Param #\u001b[0m\u001b[1m \u001b[0m┃\n",
       "┡━━━━━━━━━━━━━━━━━━━━━━━━━━━━━━━━━╇━━━━━━━━━━━━━━━━━━━━━━━━╇━━━━━━━━━━━━━━━┩\n",
       "│ dense (\u001b[38;5;33mDense\u001b[0m)                   │ (\u001b[38;5;45mNone\u001b[0m, \u001b[38;5;34m16\u001b[0m)             │           \u001b[38;5;34m128\u001b[0m │\n",
       "├─────────────────────────────────┼────────────────────────┼───────────────┤\n",
       "│ dense_1 (\u001b[38;5;33mDense\u001b[0m)                 │ (\u001b[38;5;45mNone\u001b[0m, \u001b[38;5;34m1\u001b[0m)              │            \u001b[38;5;34m17\u001b[0m │\n",
       "└─────────────────────────────────┴────────────────────────┴───────────────┘\n"
      ]
     },
     "metadata": {},
     "output_type": "display_data"
    },
    {
     "data": {
      "text/html": [
       "<pre style=\"white-space:pre;overflow-x:auto;line-height:normal;font-family:Menlo,'DejaVu Sans Mono',consolas,'Courier New',monospace\"><span style=\"font-weight: bold\"> Total params: </span><span style=\"color: #00af00; text-decoration-color: #00af00\">145</span> (580.00 B)\n",
       "</pre>\n"
      ],
      "text/plain": [
       "\u001b[1m Total params: \u001b[0m\u001b[38;5;34m145\u001b[0m (580.00 B)\n"
      ]
     },
     "metadata": {},
     "output_type": "display_data"
    },
    {
     "data": {
      "text/html": [
       "<pre style=\"white-space:pre;overflow-x:auto;line-height:normal;font-family:Menlo,'DejaVu Sans Mono',consolas,'Courier New',monospace\"><span style=\"font-weight: bold\"> Trainable params: </span><span style=\"color: #00af00; text-decoration-color: #00af00\">145</span> (580.00 B)\n",
       "</pre>\n"
      ],
      "text/plain": [
       "\u001b[1m Trainable params: \u001b[0m\u001b[38;5;34m145\u001b[0m (580.00 B)\n"
      ]
     },
     "metadata": {},
     "output_type": "display_data"
    },
    {
     "data": {
      "text/html": [
       "<pre style=\"white-space:pre;overflow-x:auto;line-height:normal;font-family:Menlo,'DejaVu Sans Mono',consolas,'Courier New',monospace\"><span style=\"font-weight: bold\"> Non-trainable params: </span><span style=\"color: #00af00; text-decoration-color: #00af00\">0</span> (0.00 B)\n",
       "</pre>\n"
      ],
      "text/plain": [
       "\u001b[1m Non-trainable params: \u001b[0m\u001b[38;5;34m0\u001b[0m (0.00 B)\n"
      ]
     },
     "metadata": {},
     "output_type": "display_data"
    }
   ],
   "source": [
    "# Definir la arquitectura de la red neuronal\n",
    "model = Sequential([\n",
    "    Dense(16, activation='relu', input_shape=(X_train_selected.shape[1],)),  # Capa oculta con 16 neuronas\n",
    "    Dense(1, activation='sigmoid')  # Capa de salida para clasificación binaria\n",
    "])\n",
    "\n",
    "# Compilar el modelo con Descenso del Gradiente Estocástico (SGD)\n",
    "model.compile(\n",
    "    optimizer=SGD(learning_rate=0.01),\n",
    "    loss='binary_crossentropy',\n",
    "    metrics=['AUC']\n",
    ")\n",
    "\n",
    "# Mostrar estructura del modelo\n",
    "model.summary()"
   ]
  },
  {
   "cell_type": "markdown",
   "id": "f58880bb-fc1a-475d-a117-dbc0bde36467",
   "metadata": {},
   "source": [
    "# Paso 3: Entrenar el modelo"
   ]
  },
  {
   "cell_type": "code",
   "execution_count": 30,
   "id": "83971173-5207-4dfa-9263-edeb78a97995",
   "metadata": {},
   "outputs": [
    {
     "name": "stdout",
     "output_type": "stream",
     "text": [
      "Epoch 1/50\n",
      "\u001b[1m133/133\u001b[0m \u001b[32m━━━━━━━━━━━━━━━━━━━━\u001b[0m\u001b[37m\u001b[0m \u001b[1m1s\u001b[0m 4ms/step - AUC: 0.5397 - loss: 0.7927 - val_AUC: 0.8426 - val_loss: 0.5214\n",
      "Epoch 2/50\n",
      "\u001b[1m133/133\u001b[0m \u001b[32m━━━━━━━━━━━━━━━━━━━━\u001b[0m\u001b[37m\u001b[0m \u001b[1m0s\u001b[0m 2ms/step - AUC: 0.8201 - loss: 0.5208 - val_AUC: 0.8505 - val_loss: 0.4787\n",
      "Epoch 3/50\n",
      "\u001b[1m133/133\u001b[0m \u001b[32m━━━━━━━━━━━━━━━━━━━━\u001b[0m\u001b[37m\u001b[0m \u001b[1m0s\u001b[0m 2ms/step - AUC: 0.8421 - loss: 0.4818 - val_AUC: 0.8551 - val_loss: 0.4639\n",
      "Epoch 4/50\n",
      "\u001b[1m133/133\u001b[0m \u001b[32m━━━━━━━━━━━━━━━━━━━━\u001b[0m\u001b[37m\u001b[0m \u001b[1m0s\u001b[0m 2ms/step - AUC: 0.8453 - loss: 0.4706 - val_AUC: 0.8582 - val_loss: 0.4567\n",
      "Epoch 5/50\n",
      "\u001b[1m133/133\u001b[0m \u001b[32m━━━━━━━━━━━━━━━━━━━━\u001b[0m\u001b[37m\u001b[0m \u001b[1m0s\u001b[0m 2ms/step - AUC: 0.8600 - loss: 0.4506 - val_AUC: 0.8599 - val_loss: 0.4524\n",
      "Epoch 6/50\n",
      "\u001b[1m133/133\u001b[0m \u001b[32m━━━━━━━━━━━━━━━━━━━━\u001b[0m\u001b[37m\u001b[0m \u001b[1m0s\u001b[0m 2ms/step - AUC: 0.8546 - loss: 0.4555 - val_AUC: 0.8610 - val_loss: 0.4495\n",
      "Epoch 7/50\n",
      "\u001b[1m133/133\u001b[0m \u001b[32m━━━━━━━━━━━━━━━━━━━━\u001b[0m\u001b[37m\u001b[0m \u001b[1m0s\u001b[0m 2ms/step - AUC: 0.8568 - loss: 0.4494 - val_AUC: 0.8613 - val_loss: 0.4474\n",
      "Epoch 8/50\n",
      "\u001b[1m133/133\u001b[0m \u001b[32m━━━━━━━━━━━━━━━━━━━━\u001b[0m\u001b[37m\u001b[0m \u001b[1m0s\u001b[0m 2ms/step - AUC: 0.8491 - loss: 0.4568 - val_AUC: 0.8620 - val_loss: 0.4457\n",
      "Epoch 9/50\n",
      "\u001b[1m133/133\u001b[0m \u001b[32m━━━━━━━━━━━━━━━━━━━━\u001b[0m\u001b[37m\u001b[0m \u001b[1m0s\u001b[0m 2ms/step - AUC: 0.8550 - loss: 0.4491 - val_AUC: 0.8623 - val_loss: 0.4444\n",
      "Epoch 10/50\n",
      "\u001b[1m133/133\u001b[0m \u001b[32m━━━━━━━━━━━━━━━━━━━━\u001b[0m\u001b[37m\u001b[0m \u001b[1m0s\u001b[0m 2ms/step - AUC: 0.8577 - loss: 0.4438 - val_AUC: 0.8627 - val_loss: 0.4433\n",
      "Epoch 11/50\n",
      "\u001b[1m133/133\u001b[0m \u001b[32m━━━━━━━━━━━━━━━━━━━━\u001b[0m\u001b[37m\u001b[0m \u001b[1m0s\u001b[0m 2ms/step - AUC: 0.8489 - loss: 0.4537 - val_AUC: 0.8628 - val_loss: 0.4424\n",
      "Epoch 12/50\n",
      "\u001b[1m133/133\u001b[0m \u001b[32m━━━━━━━━━━━━━━━━━━━━\u001b[0m\u001b[37m\u001b[0m \u001b[1m0s\u001b[0m 2ms/step - AUC: 0.8475 - loss: 0.4556 - val_AUC: 0.8632 - val_loss: 0.4416\n",
      "Epoch 13/50\n",
      "\u001b[1m133/133\u001b[0m \u001b[32m━━━━━━━━━━━━━━━━━━━━\u001b[0m\u001b[37m\u001b[0m \u001b[1m0s\u001b[0m 2ms/step - AUC: 0.8591 - loss: 0.4367 - val_AUC: 0.8633 - val_loss: 0.4409\n",
      "Epoch 14/50\n",
      "\u001b[1m133/133\u001b[0m \u001b[32m━━━━━━━━━━━━━━━━━━━━\u001b[0m\u001b[37m\u001b[0m \u001b[1m0s\u001b[0m 2ms/step - AUC: 0.8594 - loss: 0.4382 - val_AUC: 0.8635 - val_loss: 0.4403\n",
      "Epoch 15/50\n",
      "\u001b[1m133/133\u001b[0m \u001b[32m━━━━━━━━━━━━━━━━━━━━\u001b[0m\u001b[37m\u001b[0m \u001b[1m0s\u001b[0m 2ms/step - AUC: 0.8551 - loss: 0.4440 - val_AUC: 0.8635 - val_loss: 0.4397\n",
      "Epoch 16/50\n",
      "\u001b[1m133/133\u001b[0m \u001b[32m━━━━━━━━━━━━━━━━━━━━\u001b[0m\u001b[37m\u001b[0m \u001b[1m0s\u001b[0m 2ms/step - AUC: 0.8545 - loss: 0.4440 - val_AUC: 0.8639 - val_loss: 0.4392\n",
      "Epoch 17/50\n",
      "\u001b[1m133/133\u001b[0m \u001b[32m━━━━━━━━━━━━━━━━━━━━\u001b[0m\u001b[37m\u001b[0m \u001b[1m0s\u001b[0m 2ms/step - AUC: 0.8545 - loss: 0.4380 - val_AUC: 0.8640 - val_loss: 0.4386\n",
      "Epoch 18/50\n",
      "\u001b[1m133/133\u001b[0m \u001b[32m━━━━━━━━━━━━━━━━━━━━\u001b[0m\u001b[37m\u001b[0m \u001b[1m0s\u001b[0m 2ms/step - AUC: 0.8660 - loss: 0.4269 - val_AUC: 0.8649 - val_loss: 0.4381\n",
      "Epoch 19/50\n",
      "\u001b[1m133/133\u001b[0m \u001b[32m━━━━━━━━━━━━━━━━━━━━\u001b[0m\u001b[37m\u001b[0m \u001b[1m0s\u001b[0m 2ms/step - AUC: 0.8732 - loss: 0.4192 - val_AUC: 0.8649 - val_loss: 0.4376\n",
      "Epoch 20/50\n",
      "\u001b[1m133/133\u001b[0m \u001b[32m━━━━━━━━━━━━━━━━━━━━\u001b[0m\u001b[37m\u001b[0m \u001b[1m0s\u001b[0m 2ms/step - AUC: 0.8582 - loss: 0.4390 - val_AUC: 0.8649 - val_loss: 0.4372\n",
      "Epoch 21/50\n",
      "\u001b[1m133/133\u001b[0m \u001b[32m━━━━━━━━━━━━━━━━━━━━\u001b[0m\u001b[37m\u001b[0m \u001b[1m0s\u001b[0m 2ms/step - AUC: 0.8548 - loss: 0.4447 - val_AUC: 0.8655 - val_loss: 0.4367\n",
      "Epoch 22/50\n",
      "\u001b[1m133/133\u001b[0m \u001b[32m━━━━━━━━━━━━━━━━━━━━\u001b[0m\u001b[37m\u001b[0m \u001b[1m0s\u001b[0m 2ms/step - AUC: 0.8643 - loss: 0.4295 - val_AUC: 0.8653 - val_loss: 0.4361\n",
      "Epoch 23/50\n",
      "\u001b[1m133/133\u001b[0m \u001b[32m━━━━━━━━━━━━━━━━━━━━\u001b[0m\u001b[37m\u001b[0m \u001b[1m0s\u001b[0m 2ms/step - AUC: 0.8569 - loss: 0.4354 - val_AUC: 0.8657 - val_loss: 0.4355\n",
      "Epoch 24/50\n",
      "\u001b[1m133/133\u001b[0m \u001b[32m━━━━━━━━━━━━━━━━━━━━\u001b[0m\u001b[37m\u001b[0m \u001b[1m0s\u001b[0m 2ms/step - AUC: 0.8526 - loss: 0.4465 - val_AUC: 0.8659 - val_loss: 0.4350\n",
      "Epoch 25/50\n",
      "\u001b[1m133/133\u001b[0m \u001b[32m━━━━━━━━━━━━━━━━━━━━\u001b[0m\u001b[37m\u001b[0m \u001b[1m0s\u001b[0m 2ms/step - AUC: 0.8665 - loss: 0.4241 - val_AUC: 0.8670 - val_loss: 0.4344\n",
      "Epoch 26/50\n",
      "\u001b[1m133/133\u001b[0m \u001b[32m━━━━━━━━━━━━━━━━━━━━\u001b[0m\u001b[37m\u001b[0m \u001b[1m0s\u001b[0m 2ms/step - AUC: 0.8626 - loss: 0.4309 - val_AUC: 0.8669 - val_loss: 0.4339\n",
      "Epoch 27/50\n",
      "\u001b[1m133/133\u001b[0m \u001b[32m━━━━━━━━━━━━━━━━━━━━\u001b[0m\u001b[37m\u001b[0m \u001b[1m0s\u001b[0m 2ms/step - AUC: 0.8696 - loss: 0.4207 - val_AUC: 0.8677 - val_loss: 0.4334\n",
      "Epoch 28/50\n",
      "\u001b[1m133/133\u001b[0m \u001b[32m━━━━━━━━━━━━━━━━━━━━\u001b[0m\u001b[37m\u001b[0m \u001b[1m0s\u001b[0m 2ms/step - AUC: 0.8689 - loss: 0.4226 - val_AUC: 0.8677 - val_loss: 0.4329\n",
      "Epoch 29/50\n",
      "\u001b[1m133/133\u001b[0m \u001b[32m━━━━━━━━━━━━━━━━━━━━\u001b[0m\u001b[37m\u001b[0m \u001b[1m0s\u001b[0m 2ms/step - AUC: 0.8631 - loss: 0.4295 - val_AUC: 0.8672 - val_loss: 0.4325\n",
      "Epoch 30/50\n",
      "\u001b[1m133/133\u001b[0m \u001b[32m━━━━━━━━━━━━━━━━━━━━\u001b[0m\u001b[37m\u001b[0m \u001b[1m0s\u001b[0m 2ms/step - AUC: 0.8758 - loss: 0.4136 - val_AUC: 0.8680 - val_loss: 0.4320\n",
      "Epoch 31/50\n",
      "\u001b[1m133/133\u001b[0m \u001b[32m━━━━━━━━━━━━━━━━━━━━\u001b[0m\u001b[37m\u001b[0m \u001b[1m0s\u001b[0m 2ms/step - AUC: 0.8661 - loss: 0.4260 - val_AUC: 0.8676 - val_loss: 0.4315\n",
      "Epoch 32/50\n",
      "\u001b[1m133/133\u001b[0m \u001b[32m━━━━━━━━━━━━━━━━━━━━\u001b[0m\u001b[37m\u001b[0m \u001b[1m0s\u001b[0m 2ms/step - AUC: 0.8689 - loss: 0.4233 - val_AUC: 0.8687 - val_loss: 0.4311\n",
      "Epoch 33/50\n",
      "\u001b[1m133/133\u001b[0m \u001b[32m━━━━━━━━━━━━━━━━━━━━\u001b[0m\u001b[37m\u001b[0m \u001b[1m0s\u001b[0m 2ms/step - AUC: 0.8659 - loss: 0.4318 - val_AUC: 0.8689 - val_loss: 0.4306\n",
      "Epoch 34/50\n",
      "\u001b[1m133/133\u001b[0m \u001b[32m━━━━━━━━━━━━━━━━━━━━\u001b[0m\u001b[37m\u001b[0m \u001b[1m0s\u001b[0m 2ms/step - AUC: 0.8697 - loss: 0.4275 - val_AUC: 0.8683 - val_loss: 0.4302\n",
      "Epoch 35/50\n",
      "\u001b[1m133/133\u001b[0m \u001b[32m━━━━━━━━━━━━━━━━━━━━\u001b[0m\u001b[37m\u001b[0m \u001b[1m0s\u001b[0m 2ms/step - AUC: 0.8665 - loss: 0.4308 - val_AUC: 0.8698 - val_loss: 0.4298\n",
      "Epoch 36/50\n",
      "\u001b[1m133/133\u001b[0m \u001b[32m━━━━━━━━━━━━━━━━━━━━\u001b[0m\u001b[37m\u001b[0m \u001b[1m0s\u001b[0m 2ms/step - AUC: 0.8873 - loss: 0.3981 - val_AUC: 0.8706 - val_loss: 0.4294\n",
      "Epoch 37/50\n",
      "\u001b[1m133/133\u001b[0m \u001b[32m━━━━━━━━━━━━━━━━━━━━\u001b[0m\u001b[37m\u001b[0m \u001b[1m0s\u001b[0m 2ms/step - AUC: 0.8669 - loss: 0.4329 - val_AUC: 0.8696 - val_loss: 0.4289\n",
      "Epoch 38/50\n",
      "\u001b[1m133/133\u001b[0m \u001b[32m━━━━━━━━━━━━━━━━━━━━\u001b[0m\u001b[37m\u001b[0m \u001b[1m0s\u001b[0m 2ms/step - AUC: 0.8734 - loss: 0.4186 - val_AUC: 0.8709 - val_loss: 0.4285\n",
      "Epoch 39/50\n",
      "\u001b[1m133/133\u001b[0m \u001b[32m━━━━━━━━━━━━━━━━━━━━\u001b[0m\u001b[37m\u001b[0m \u001b[1m0s\u001b[0m 2ms/step - AUC: 0.8604 - loss: 0.4416 - val_AUC: 0.8710 - val_loss: 0.4281\n",
      "Epoch 40/50\n",
      "\u001b[1m133/133\u001b[0m \u001b[32m━━━━━━━━━━━━━━━━━━━━\u001b[0m\u001b[37m\u001b[0m \u001b[1m0s\u001b[0m 2ms/step - AUC: 0.8743 - loss: 0.4182 - val_AUC: 0.8717 - val_loss: 0.4277\n",
      "Epoch 41/50\n",
      "\u001b[1m133/133\u001b[0m \u001b[32m━━━━━━━━━━━━━━━━━━━━\u001b[0m\u001b[37m\u001b[0m \u001b[1m0s\u001b[0m 2ms/step - AUC: 0.8746 - loss: 0.4115 - val_AUC: 0.8726 - val_loss: 0.4272\n",
      "Epoch 42/50\n",
      "\u001b[1m133/133\u001b[0m \u001b[32m━━━━━━━━━━━━━━━━━━━━\u001b[0m\u001b[37m\u001b[0m \u001b[1m0s\u001b[0m 2ms/step - AUC: 0.8745 - loss: 0.4213 - val_AUC: 0.8725 - val_loss: 0.4268\n",
      "Epoch 43/50\n",
      "\u001b[1m133/133\u001b[0m \u001b[32m━━━━━━━━━━━━━━━━━━━━\u001b[0m\u001b[37m\u001b[0m \u001b[1m0s\u001b[0m 2ms/step - AUC: 0.8741 - loss: 0.4251 - val_AUC: 0.8723 - val_loss: 0.4264\n",
      "Epoch 44/50\n",
      "\u001b[1m133/133\u001b[0m \u001b[32m━━━━━━━━━━━━━━━━━━━━\u001b[0m\u001b[37m\u001b[0m \u001b[1m0s\u001b[0m 2ms/step - AUC: 0.8765 - loss: 0.4135 - val_AUC: 0.8731 - val_loss: 0.4260\n",
      "Epoch 45/50\n",
      "\u001b[1m133/133\u001b[0m \u001b[32m━━━━━━━━━━━━━━━━━━━━\u001b[0m\u001b[37m\u001b[0m \u001b[1m0s\u001b[0m 2ms/step - AUC: 0.8784 - loss: 0.4173 - val_AUC: 0.8734 - val_loss: 0.4256\n",
      "Epoch 46/50\n",
      "\u001b[1m133/133\u001b[0m \u001b[32m━━━━━━━━━━━━━━━━━━━━\u001b[0m\u001b[37m\u001b[0m \u001b[1m0s\u001b[0m 2ms/step - AUC: 0.8795 - loss: 0.4127 - val_AUC: 0.8736 - val_loss: 0.4252\n",
      "Epoch 47/50\n",
      "\u001b[1m133/133\u001b[0m \u001b[32m━━━━━━━━━━━━━━━━━━━━\u001b[0m\u001b[37m\u001b[0m \u001b[1m0s\u001b[0m 2ms/step - AUC: 0.8694 - loss: 0.4312 - val_AUC: 0.8744 - val_loss: 0.4249\n",
      "Epoch 48/50\n",
      "\u001b[1m133/133\u001b[0m \u001b[32m━━━━━━━━━━━━━━━━━━━━\u001b[0m\u001b[37m\u001b[0m \u001b[1m0s\u001b[0m 2ms/step - AUC: 0.8768 - loss: 0.4198 - val_AUC: 0.8753 - val_loss: 0.4245\n",
      "Epoch 49/50\n",
      "\u001b[1m133/133\u001b[0m \u001b[32m━━━━━━━━━━━━━━━━━━━━\u001b[0m\u001b[37m\u001b[0m \u001b[1m0s\u001b[0m 2ms/step - AUC: 0.8771 - loss: 0.4188 - val_AUC: 0.8752 - val_loss: 0.4241\n",
      "Epoch 50/50\n",
      "\u001b[1m133/133\u001b[0m \u001b[32m━━━━━━━━━━━━━━━━━━━━\u001b[0m\u001b[37m\u001b[0m \u001b[1m0s\u001b[0m 2ms/step - AUC: 0.8830 - loss: 0.4098 - val_AUC: 0.8745 - val_loss: 0.4237\n"
     ]
    }
   ],
   "source": [
    "# Entrenar el modelo\n",
    "history = model.fit(\n",
    "    X_train_selected, y_train,\n",
    "    epochs=50,  # Ajustable según rendimiento\n",
    "    batch_size=32,  # Tamaño del batch\n",
    "    validation_data=(X_test_selected, y_test),\n",
    "    verbose=1\n",
    ")"
   ]
  },
  {
   "cell_type": "markdown",
   "id": "23f99a69-ff82-444b-8eb9-4cf0dcb0d72d",
   "metadata": {},
   "source": [
    "# Paso 4: Evaluar AUC y Graficar la Curva ROC"
   ]
  },
  {
   "cell_type": "code",
   "execution_count": 32,
   "id": "9d305684-fb2a-400e-82dd-4c86653eddfc",
   "metadata": {},
   "outputs": [
    {
     "name": "stdout",
     "output_type": "stream",
     "text": [
      "\u001b[1m34/34\u001b[0m \u001b[32m━━━━━━━━━━━━━━━━━━━━\u001b[0m\u001b[37m\u001b[0m \u001b[1m0s\u001b[0m 2ms/step \n",
      " AUC del modelo: 0.8752\n"
     ]
    },
    {
     "data": {
      "image/png": "[encoded data removed]",
      "text/plain": [
       "<Figure size 600x600 with 1 Axes>"
      ]
     },
     "metadata": {},
     "output_type": "display_data"
    }
   ],
   "source": [
    "# Obtener predicciones de probabilidad\n",
    "y_pred_proba = model.predict(X_test_selected).ravel()\n",
    "\n",
    "# Calcular curva ROC\n",
    "fpr, tpr, _ = roc_curve(y_test, y_pred_proba)\n",
    "roc_auc = auc(fpr, tpr)\n",
    "\n",
    "# Mostrar AUC\n",
    "print(f\" AUC del modelo: {roc_auc:.4f}\")\n",
    "\n",
    "# Graficar curva ROC\n",
    "plt.figure(figsize=(6, 6))\n",
    "plt.plot(fpr, tpr, color='blue', lw=2, label=f'AUC = {roc_auc:.4f}')\n",
    "plt.plot([0, 1], [0, 1], color='gray', linestyle='--')  # Línea de referencia\n",
    "plt.xlabel(\"FPR (Tasa de Falsos Positivos)\")\n",
    "plt.ylabel(\"TPR (Tasa de Verdaderos Positivos)\")\n",
    "plt.title(\"Curva ROC\")\n",
    "plt.legend(loc=\"lower right\")\n",
    "plt.show()"
   ]
  },
  {
   "cell_type": "markdown",
   "id": "36b4a443-a82a-435f-b1f3-5a1fba5a8726",
   "metadata": {},
   "source": [
    " # Metricas de evaluacion "
   ]
  },
  {
   "cell_type": "code",
   "execution_count": 34,
   "id": "94502d64-b132-47ca-a142-794eed1edb4e",
   "metadata": {},
   "outputs": [
    {
     "name": "stdout",
     "output_type": "stream",
     "text": [
      "\u001b[1m34/34\u001b[0m \u001b[32m━━━━━━━━━━━━━━━━━━━━\u001b[0m\u001b[37m\u001b[0m \u001b[1m0s\u001b[0m 894us/step\n"
     ]
    }
   ],
   "source": [
    "# Obtener predicciones\n",
    "# Primero, convertimos las probabilidades en clases binarias (0 o 1):\n",
    "\n",
    "\n",
    "# Obtener predicciones de probabilidad\n",
    "y_pred_proba = model.predict(X_test_selected).ravel()\n",
    "\n",
    "# Convertir probabilidades en etiquetas (0 o 1) con un umbral de 0.5\n",
    "y_pred = np.where(y_pred_proba >= 0.5, 1, 0)"
   ]
  },
  {
   "cell_type": "markdown",
   "id": "ce818ecb-8331-4bc5-96fb-ba393f20923a",
   "metadata": {},
   "source": [
    "# CUIDADO !!! PORQUE CONVERTIMOS LAS PROBABLIDADES EN CLASES BINARIAS ? \n",
    "\n",
    "### Cuando entrenamos una red neuronal para clasificación binaria, la capa de salida usa una función de activación sigmoide (sigmoid). Esto significa que el modelo no nos entrega una etiqueta directamente (0 o 1), sino una probabilidad entre 0 y 1.\n",
    "\n",
    " #### El modelo nos da una salida y_pred_proba, que representa la probabilidad de pertenecer a la clase 1 (Churn).\n",
    "\n",
    "##### 0.85: El modelo cree que este caso tiene 85% de probabilidad de ser Churn (1).\n",
    "##### 0.12: Solo 12% de probabilidad, por lo que sería No Churn (0).\n",
    "##### 0.65: Probabilidad del 65%, usualmente lo clasificamos como Churn (1).\n",
    "##### 0.42: Probabilidad del 42%, usualmente lo clasificamos como No Churn (0)."
   ]
  },
  {
   "cell_type": "markdown",
   "id": "c3a1fe4c-89ef-4455-880c-762346842c22",
   "metadata": {},
   "source": [
    " # Calcular Accuracy, Precision, Recall y F1-Score"
   ]
  },
  {
   "cell_type": "code",
   "execution_count": 37,
   "id": "664b68cb-4942-472a-9689-e611e783a2b2",
   "metadata": {},
   "outputs": [
    {
     "name": "stdout",
     "output_type": "stream",
     "text": [
      " **Métricas del modelo de Red Neuronal:**\n",
      " **Accuracy:** 0.7910\n",
      " **Precision:** 0.7554\n",
      " **Recall:** 0.8606\n",
      " **F1-Score:** 0.8046\n",
      "\n",
      " **Reporte de Clasificación:**\n",
      "\n",
      "              precision    recall  f1-score   support\n",
      "\n",
      "           0       0.84      0.72      0.78       531\n",
      "           1       0.76      0.86      0.80       531\n",
      "\n",
      "    accuracy                           0.79      1062\n",
      "   macro avg       0.80      0.79      0.79      1062\n",
      "weighted avg       0.80      0.79      0.79      1062\n",
      "\n"
     ]
    }
   ],
   "source": [
    "# Calcular métricas\n",
    "accuracy = accuracy_score(y_test, y_pred)\n",
    "precision = precision_score(y_test, y_pred)\n",
    "recall = recall_score(y_test, y_pred)\n",
    "f1 = f1_score(y_test, y_pred)\n",
    "\n",
    "# Imprimir métricas\n",
    "print(f\" **Métricas del modelo de Red Neuronal:**\")\n",
    "print(f\" **Accuracy:** {accuracy:.4f}\")\n",
    "print(f\" **Precision:** {precision:.4f}\")\n",
    "print(f\" **Recall:** {recall:.4f}\")\n",
    "print(f\" **F1-Score:** {f1:.4f}\")\n",
    "\n",
    "# Reporte detallado\n",
    "print(\"\\n **Reporte de Clasificación:**\\n\")\n",
    "print(classification_report(y_test, y_pred))"
   ]
  },
  {
   "cell_type": "markdown",
   "id": "7b1385f3-4415-4827-bdc9-3b0742bc9053",
   "metadata": {},
   "source": [
    "# :/mmmm"
   ]
  },
  {
   "cell_type": "raw",
   "id": "73fab18d-504f-4fc6-90d2-e4eca1d568e2",
   "metadata": {},
   "source": [
    "Conclusión\n",
    "Random Forest parece sobreajustado, lo que sugiere que funciona muy bien en entrenamiento pero podría fallar en datos nuevos.\n",
    "La Red Neuronal no está rindiendo bien, lo que sugiere que no está aprendiendo correctamente o que la arquitectura necesita ajustes."
   ]
  },
  {
   "cell_type": "markdown",
   "id": "cad787fb-b16e-4d92-8577-e44391721863",
   "metadata": {},
   "source": [
    "# Nuevo modelo Random Forest con GridSearchCV"
   ]
  },
  {
   "cell_type": "code",
   "execution_count": 40,
   "id": "4b2376c0-818b-42b7-9126-29e3d9c952a1",
   "metadata": {},
   "outputs": [
    {
     "name": "stdout",
     "output_type": "stream",
     "text": [
      "Fitting 5 folds for each of 48 candidates, totalling 240 fits\n",
      "Mejores parámetros: {'bootstrap': True, 'ccp_alpha': 0.01, 'max_depth': 15, 'max_features': 0.5, 'min_samples_leaf': 8, 'min_samples_split': 20, 'n_estimators': 100}\n",
      "              precision    recall  f1-score   support\n",
      "\n",
      "           0       0.92      0.79      0.85       531\n",
      "           1       0.82      0.93      0.87       531\n",
      "\n",
      "    accuracy                           0.86      1062\n",
      "   macro avg       0.87      0.86      0.86      1062\n",
      "weighted avg       0.87      0.86      0.86      1062\n",
      "\n"
     ]
    }
   ],
   "source": [
    "\n",
    "# Definir nuevas X y y\n",
    "X = X_smote_scaled\n",
    "y = y_smote\n",
    "\n",
    "# Definir los hiperparámetros con regularización\n",
    "param_grid = {\n",
    "    \"n_estimators\": [50, 100],  # Reducimos el número de árboles\n",
    "    \"max_depth\": [5, 10, 15],   # Limitamos la profundidad para evitar memorizar\n",
    "    \"min_samples_split\": [10, 20],  # No permitir splits demasiado finos\n",
    "    \"min_samples_leaf\": [8, 10],   # Cada hoja debe tener al menos 8-10 datos\n",
    "    \"max_features\": [0.5],  # Limitar el número de características por split\n",
    "    \"bootstrap\": [True],  \n",
    "    \"ccp_alpha\": [0.01, 0.05]  # Aumentamos la poda para eliminar ramas irrelevantes\n",
    "}\n",
    "\n",
    "# Definir el modelo\n",
    "rf = RandomForestClassifier(random_state=42, n_jobs=-1)\n",
    "\n",
    "# Aplicar GridSearchCV con validación cruzada de 5 folds\n",
    "grid_search = GridSearchCV(\n",
    "    estimator=rf,\n",
    "    param_grid=param_grid,\n",
    "    cv=5,\n",
    "    scoring=\"f1\",\n",
    "    verbose=2,\n",
    "    n_jobs=-1\n",
    ")\n",
    "\n",
    "# Entrenar el modelo\n",
    "grid_search.fit(X, y)\n",
    "\n",
    "# Obtener los mejores parámetros\n",
    "best_rf = grid_search.best_estimator_\n",
    "print(f\"Mejores parámetros: {grid_search.best_params_}\")\n",
    "\n",
    "# Evaluar en los datos de test\n",
    "y_pred = best_rf.predict(X_test)\n",
    "\n",
    "from sklearn.metrics import classification_report\n",
    "print(classification_report(y_test, y_pred))"
   ]
  },
  {
   "cell_type": "markdown",
   "id": "fd1ed154-93fd-4fbe-90de-64e369cb1daa",
   "metadata": {},
   "source": [
    "# Comparar rendimiento en entrenamiento vs prueba"
   ]
  },
  {
   "cell_type": "code",
   "execution_count": 42,
   "id": "da8b61d9-51c3-42c6-bf91-158081284dbf",
   "metadata": {},
   "outputs": [
    {
     "name": "stdout",
     "output_type": "stream",
     "text": [
      "Accuracy en entrenamiento: 0.8724\n",
      "Accuracy en prueba: 0.8597\n"
     ]
    }
   ],
   "source": [
    "# Evaluar el rendimiento en entrenamiento\n",
    "y_train_pred = best_rf.predict(X_train)\n",
    "\n",
    "\n",
    "train_acc = accuracy_score(y_train, y_train_pred)\n",
    "test_acc = accuracy_score(y_test, y_pred)\n",
    "\n",
    "print(f\"Accuracy en entrenamiento: {train_acc:.4f}\")\n",
    "print(f\"Accuracy en prueba: {test_acc:.4f}\")"
   ]
  },
  {
   "cell_type": "code",
   "execution_count": 43,
   "id": "534d0d32-1fcb-49e0-9f32-54b98216680f",
   "metadata": {},
   "outputs": [
    {
     "data": {
      "image/png": "[encoded data removed]",
      "text/plain": [
       "<Figure size 800x500 with 1 Axes>"
      ]
     },
     "metadata": {},
     "output_type": "display_data"
    }
   ],
   "source": [
    "# Lista de cantidad de árboles a probar\n",
    "n_estimators_range = np.arange(10, 201, 20)\n",
    "\n",
    "# Listas para almacenar accuracy en entrenamiento y prueba\n",
    "train_accuracies = []\n",
    "test_accuracies = []\n",
    "\n",
    "# Probar diferentes números de árboles en Random Forest\n",
    "for n in n_estimators_range:\n",
    "    rf = RandomForestClassifier(n_estimators=n, max_depth=15, min_samples_leaf=8, random_state=42)\n",
    "    rf.fit(X_train, y_train)  # Entrenar modelo\n",
    "    \n",
    "    # Evaluar en entrenamiento y prueba\n",
    "    train_acc = accuracy_score(y_train, rf.predict(X_train))\n",
    "    test_acc = accuracy_score(y_test, rf.predict(X_test))\n",
    "    \n",
    "    train_accuracies.append(train_acc)\n",
    "    test_accuracies.append(test_acc)\n",
    "\n",
    "# Graficar la evolución del rendimiento\n",
    "plt.figure(figsize=(8,5))\n",
    "plt.plot(n_estimators_range, train_accuracies, label=\"Entrenamiento\", marker='o')\n",
    "plt.plot(n_estimators_range, test_accuracies, label=\"Prueba\", marker='s')\n",
    "plt.xlabel(\"Número de árboles (n_estimators)\")\n",
    "plt.ylabel(\"Accuracy\")\n",
    "plt.legend()\n",
    "plt.title(\"Comparación de Accuracy en Entrenamiento vs Prueba\")\n",
    "plt.show()"
   ]
  },
  {
   "cell_type": "markdown",
   "id": "b079836b-b167-4a6e-bcc1-692accc3ac6a",
   "metadata": {},
   "source": [
    "# El modelo de Random Forest muestra un leve sobreajuste, ya que la precisión en entrenamiento (97.24%) es ligeramente mayor que en prueba (96.74%), con una diferencia de 0.5%.\n",
    "\n",
    "# Sin embargo, esta diferencia no es preocupante, lo que indica que el modelo generaliza bien y no está memorizando excesivamente los datos de entrenamiento."
   ]
  },
  {
   "cell_type": "code",
   "execution_count": 45,
   "id": "0b758da7-b68b-4247-917e-ffaf07b30c64",
   "metadata": {},
   "outputs": [
    {
     "data": {
      "image/png": "[encoded data removed]",
      "text/plain": [
       "<Figure size 600x400 with 2 Axes>"
      ]
     },
     "metadata": {},
     "output_type": "display_data"
    }
   ],
   "source": [
    "# Obtener la matriz de confusión\n",
    "cm = confusion_matrix(y_test, y_pred)\n",
    "\n",
    "# Graficar la matriz de confusión\n",
    "plt.figure(figsize=(6,4))\n",
    "sns.heatmap(cm, annot=True, fmt='d', cmap='Blues', xticklabels=['Clase 0', 'Clase 1'], yticklabels=['Clase 0', 'Clase 1'])\n",
    "\n",
    "plt.xlabel('Predicción')\n",
    "plt.ylabel('Real')\n",
    "plt.title('Matriz de Confusión')\n",
    "plt.show()\n"
   ]
  },
  {
   "cell_type": "markdown",
   "id": "fe496eef-48c2-40cd-95b7-89c21c852da9",
   "metadata": {},
   "source": [
    "# que pasa con la regularizacion ? \n",
    "\n",
    "## Random Forest no usa regularización Lasso, Ridge o ElasticNet, porque esas técnicas son para modelos lineales y Random Forest es un modelo basado en árboles de decisión. Sin embargo, sí se puede regularizar un Random Forest con otros enfoques."
   ]
  },
  {
   "cell_type": "markdown",
   "id": "a539dedc-2ea9-4e38-8873-f998a9a14e0c",
   "metadata": {},
   "source": [
    "##### Max Depth (max_depth)\t✅ Sí\tLimita la profundidad del árbol para evitar que aprenda demasiado los datos.\n",
    "##### Min Samples per Leaf (min_samples_leaf)\t✅ Sí\tObliga a que cada hoja tenga cierto número mínimo de datos, evitando árboles demasiado fragmentados.\n",
    "##### Bootstrap Sampling (bootstrap)\t✅ Sí\tCada árbol se entrena con una muestra aleatoria del dataset, reduciendo la dependencia de datos específicos.\n",
    "##### Subsampling (max_samples)\t✅ Sí\tPermite entrenar cada árbol con un subconjunto de datos, ayudando a la generalización.\n",
    "\n",
    "##### ¿Qué tipo de regularización es mejor?\n",
    "##### Para Random Forest, lo mejor es aplicar poda (ccp_alpha), limitar la profundidad (max_depth) y controlar cómo se dividen los nodos (min_samples_leaf, min_samples_split)."
   ]
  },
  {
   "cell_type": "markdown",
   "id": "5b48202d-99b2-494e-900b-e842e5a4d6dc",
   "metadata": {},
   "source": [
    "# Vamos a refactorizar la red neuronal optimizando su arquitectura y los hiperparámetros mediante GridSearchCV con KerasClassifier de scikeras.wrappers. Usaremos Batch Normalization, Dropout y probaremos diferentes optimizers y tamaños de capa oculta."
   ]
  },
  {
   "cell_type": "code",
   "execution_count": 49,
   "id": "201f411e-30e4-43c7-b007-5b22e0fb9a0c",
   "metadata": {},
   "outputs": [
    {
     "name": "stdout",
     "output_type": "stream",
     "text": [
      "Fitting 3 folds for each of 72 candidates, totalling 216 fits\n"
     ]
    },
    {
     "name": "stderr",
     "output_type": "stream",
     "text": [
      "C:\\Users\\franc\\anaconda3\\Lib\\site-packages\\joblib\\externals\\loky\\process_executor.py:752: UserWarning: A worker stopped while some jobs were given to the executor. This can be caused by a too short worker timeout or by a memory leak.\n",
      "  warnings.warn(\n",
      "C:\\Users\\franc\\anaconda3\\Lib\\site-packages\\keras\\src\\layers\\core\\dense.py:87: UserWarning: Do not pass an `input_shape`/`input_dim` argument to a layer. When using Sequential models, prefer using an `Input(shape)` object as the first layer in the model instead.\n",
      "  super().__init__(activity_regularizer=activity_regularizer, **kwargs)\n"
     ]
    },
    {
     "name": "stdout",
     "output_type": "stream",
     "text": [
      "Mejores parámetros: {'batch_size': 64, 'epochs': 100, 'model__dropout_rate': 0.2, 'model__neurons': 128, 'model__optimizer': 'adam'}\n",
      "              precision    recall  f1-score   support\n",
      "\n",
      "           0       0.99      0.98      0.99       531\n",
      "           1       0.98      0.99      0.99       531\n",
      "\n",
      "    accuracy                           0.99      1062\n",
      "   macro avg       0.99      0.99      0.99      1062\n",
      "weighted avg       0.99      0.99      0.99      1062\n",
      "\n"
     ]
    }
   ],
   "source": [
    "# Función para construir la red neuronal\n",
    "def create_model(optimizer='adam', neurons=64, dropout_rate=0.2): # CUIDADO CON ESTSOS CODIGOS NINJAS ! \n",
    "    model = Sequential([\n",
    "        Dense(neurons, activation='relu', input_shape=(X.shape[1],)),\n",
    "        BatchNormalization(),\n",
    "        Dropout(dropout_rate),\n",
    "        \n",
    "        Dense(neurons, activation='relu'),\n",
    "        BatchNormalization(),\n",
    "        Dropout(dropout_rate),\n",
    "        \n",
    "        Dense(1, activation='sigmoid')  # Clasificación binaria\n",
    "    ])\n",
    "    \n",
    "    model.compile(optimizer=optimizer, loss='binary_crossentropy', metrics=['accuracy'])\n",
    "    return model\n",
    "\n",
    "# Crear un wrapper para usar con GridSearchCV\n",
    "model = KerasClassifier(model=create_model, verbose=0)\n",
    "\n",
    "# Definir la cuadrícula de hiperparámetros\n",
    "param_grid = {\n",
    "    'model__optimizer': ['adam', 'sgd'],  # Probar Adam y SGD\n",
    "    'model__neurons': [32, 64, 128],  # Tamaño de capas ocultas\n",
    "    'model__dropout_rate': [0.2, 0.4],  # Probar distintos niveles de dropout\n",
    "    'batch_size': [16, 32, 64],  # Tamaño de batch\n",
    "    'epochs': [50, 100]  # Número de epochs\n",
    "}\n",
    "\n",
    "# Aplicar GridSearchCV con validación cruzada\n",
    "grid_search = GridSearchCV(\n",
    "    estimator=model,\n",
    "    param_grid=param_grid,\n",
    "    cv=3,  # Validación cruzada de 3 folds (más lento si es más alto)\n",
    "    scoring='accuracy',\n",
    "    verbose=2,\n",
    "    n_jobs=-1\n",
    ")\n",
    "\n",
    "# Entrenar el modelo con los datos escalados y balanceados\n",
    "grid_search.fit(X_smote_scaled, y_smote)\n",
    "\n",
    "# Mejor combinación de hiperparámetros\n",
    "print(f\"Mejores parámetros: {grid_search.best_params_}\")\n",
    "\n",
    "# Evaluar en datos de test\n",
    "best_nn = grid_search.best_estimator_\n",
    "y_pred = best_nn.predict(X_test)\n",
    "\n",
    "from sklearn.metrics import classification_report\n",
    "print(classification_report(y_test, y_pred))"
   ]
  },
  {
   "cell_type": "code",
   "execution_count": 50,
   "id": "8bd9dd5b-e445-414b-b032-4f1a2ccce17b",
   "metadata": {},
   "outputs": [],
   "source": [
    "# Comparar el rendimiento en entrenamiento vs. prueba"
   ]
  },
  {
   "cell_type": "code",
   "execution_count": 51,
   "id": "6779bc9a-9221-498f-bc02-2a0e6dd7096b",
   "metadata": {},
   "outputs": [
    {
     "data": {
      "image/png": "[encoded data removed]",
      "text/plain": [
       "<Figure size 640x480 with 1 Axes>"
      ]
     },
     "metadata": {},
     "output_type": "display_data"
    }
   ],
   "source": [
    "import matplotlib.pyplot as plt\n",
    "\n",
    "# Entrenar la red neuronal y guardar la historia\n",
    "history = best_nn.history_\n",
    "\n",
    "\n",
    "# Graficar la pérdida en entrenamiento y prueba\n",
    "plt.plot(history['loss'], label='Entrenamiento')\n",
    "plt.plot(history['val_loss'], label='Prueba')\n",
    "plt.xlabel('Épocas')\n",
    "plt.ylabel('Pérdida')\n",
    "plt.legend()\n",
    "plt.title('Curva de Pérdida')\n",
    "plt.show()\n"
   ]
  },
  {
   "cell_type": "markdown",
   "id": "6cc28d98-a8e0-4fec-92b0-6d01a6d5e167",
   "metadata": {},
   "source": [
    "📌 ¿Qué significa la forma de la curva?\n",
    "1️⃣ Inicio del entrenamiento (0-10 épocas)\n",
    "\n",
    "La pérdida es alta en ambas líneas, lo cual es esperado porque el modelo comienza sin haber aprendido nada.\n",
    "Las dos curvas bajan rápidamente, lo que indica que el modelo está aprendiendo correctamente.\n",
    "2️⃣ De 10 a 40 épocas\n",
    "\n",
    "La pérdida sigue disminuyendo tanto en entrenamiento como en prueba.\n",
    "No hay una gran diferencia entre ambas curvas, lo que indica que el modelo aún generaliza bien.\n",
    "3️⃣ De 40 a 100 épocas\n",
    "\n",
    "La pérdida en prueba es menor que en entrenamiento en algunos puntos → Esto podría deberse a fluctuaciones aleatorias, pero no es preocupante.\n",
    "No hay una separación grande entre ambas curvas, lo cual indica que el modelo NO está sobreajustando gravemente.\n",
    "\n",
    "❌ No parece haber sobreajuste severo\n",
    "\n",
    "Si la línea azul (entrenamiento) fuera mucho más baja que la naranja (prueba), significaría que el modelo memorizó los datos de entrenamiento y no generaliza.\n",
    "Aquí, ambas curvas son cercanas, lo que indica que el modelo aprendió correctamente y no está memorizando."
   ]
  },
  {
   "cell_type": "code",
   "execution_count": null,
   "id": "05f9d8be-a95c-4990-9fa4-b39501926ccd",
   "metadata": {},
   "outputs": [],
   "source": []
  },
  {
   "cell_type": "markdown",
   "id": "b2708b65-bfb5-4b0b-9652-f876954860bd",
   "metadata": {},
   "source": [
    "# Conclusion Random Forest\n",
    "\n",
    "## Después de aplicar regularización al modelo Random Forest, logramos reducir el sobreajuste. Las métricas ya no son irreales (~99%) y reflejan un rendimiento más realista, con una precisión del 82% y un recall del 79%.\n",
    "\n",
    "## Sin embargo, el modelo sigue presentando una cantidad significativa de falsos positivos (111) y falsos negativos (38), lo que sugiere que aún hay margen de mejora en la generalización.\n"
   ]
  },
  {
   "cell_type": "code",
   "execution_count": null,
   "id": "4a35d679-1ed5-45ec-a8fd-99d77f511ca6",
   "metadata": {},
   "outputs": [],
   "source": []
  }
 ],
 "metadata": {
  "kernelspec": {
   "display_name": "Python 3 (ipykernel)",
   "language": "python",
   "name": "python3"
  },
  "language_info": {
   "codemirror_mode": {
    "name": "ipython",
    "version": 3
   },
   "file_extension": ".py",
   "mimetype": "text/x-python",
   "name": "python",
   "nbconvert_exporter": "python",
   "pygments_lexer": "ipython3",
   "version": "3.12.4"
  }
 },
 "nbformat": 4,
 "nbformat_minor": 5
}
